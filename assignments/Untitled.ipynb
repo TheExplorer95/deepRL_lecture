{
 "cells": [
  {
   "cell_type": "code",
   "execution_count": 26,
   "id": "political-undergraduate",
   "metadata": {},
   "outputs": [],
   "source": [
    "import gym\n",
    "import gridworlds\n",
    "import numpy as np"
   ]
  },
  {
   "cell_type": "code",
   "execution_count": 31,
   "id": "united-wealth",
   "metadata": {},
   "outputs": [
    {
     "name": "stdout",
     "output_type": "stream",
     "text": [
      "The environment has 12 states and 4 actions, with an state space of Discrete(12) and an action space of Discrete(4).\n"
     ]
    }
   ],
   "source": [
    "env = gym.make('gridworld-v0')\n",
    "\n",
    "states = env.env.observation_space\n",
    "actions = env.env.action_space\n",
    "\n",
    "print(f'The environment has {states.n} states and {actions.n} actions, with an state space of {states} and an action space of {actions}.')"
   ]
  },
  {
   "cell_type": "code",
   "execution_count": 32,
   "id": "northern-dover",
   "metadata": {},
   "outputs": [
    {
     "data": {
      "text/plain": [
       "array([[0., 0., 0., 0.],\n",
       "       [0., 0., 0., 0.],\n",
       "       [0., 0., 0., 0.],\n",
       "       [0., 0., 0., 0.],\n",
       "       [0., 0., 0., 0.],\n",
       "       [0., 0., 0., 0.],\n",
       "       [0., 0., 0., 0.],\n",
       "       [0., 0., 0., 0.],\n",
       "       [0., 0., 0., 0.],\n",
       "       [0., 0., 0., 0.],\n",
       "       [0., 0., 0., 0.],\n",
       "       [0., 0., 0., 0.]])"
      ]
     },
     "execution_count": 32,
     "metadata": {},
     "output_type": "execute_result"
    }
   ],
   "source": [
    "alpha = 0.3      # learning rate\n",
    "epsilon = 0.1    # epsilon_greedy\n",
    "gamma = 0.9      # discount factor (0-myopic; 1-far sighted)\n",
    "\n",
    "Q = np.zeros([states.n, actions.n])"
   ]
  },
  {
   "cell_type": "code",
   "execution_count": 30,
   "id": "inappropriate-variation",
   "metadata": {},
   "outputs": [
    {
     "name": "stdout",
     "output_type": "stream",
     "text": [
      "(0, 0)\n",
      "(1, 0)\n",
      "(0, 0)\n",
      "(0, 0)\n",
      "(0, 0)\n",
      "(1, 0)\n",
      "(1, 0)\n",
      "(0, 0)\n",
      "(0, 0)\n",
      "(0, 0)\n",
      "(0, 0)\n",
      "(0, 1)\n",
      "(0, 1)\n",
      "(0, 1)\n",
      "(0, 1)\n",
      "(0, 1)\n",
      "(0, 1)\n",
      "(0, 1)\n",
      "(0, 1)\n",
      "(0, 0)\n",
      "(1, 0)\n",
      "(1, 0)\n",
      "(1, 0)\n",
      "(0, 0)\n",
      "(1, 0)\n",
      "(1, 0)\n",
      "(1, 0)\n",
      "(1, 0)\n",
      "(1, 0)\n",
      "(2, 0)\n",
      "(2, 1)\n",
      "(2, 0)\n",
      "(2, 1)\n",
      "(2, 1)\n",
      "(2, 2)\n",
      "(2, 1)\n",
      "(2, 1)\n",
      "(2, 2)\n",
      "(2, 2)\n",
      "(1, 2)\n",
      "(2, 2)\n",
      "(1, 2)\n",
      "(2, 2)\n",
      "Finished episode after 42-timesteps.\n"
     ]
    }
   ],
   "source": [
    "state = env.reset()\n",
    "max_timesteps = 1000\n",
    "\n",
    "for t in range(max_timesteps):\n",
    "    env.render()\n",
    "    action = env.action_space.sample()\n",
    "    state, reward, done, _ = env.step(action)\n",
    "\n",
    "    if done:\n",
    "        print(f'Finished episode after {t}-timesteps.')\n",
    "        break\n",
    "\n",
    "env.close()"
   ]
  },
  {
   "cell_type": "code",
   "execution_count": null,
   "id": "following-violation",
   "metadata": {},
   "outputs": [],
   "source": []
  }
 ],
 "metadata": {
  "kernelspec": {
   "display_name": "Python 3",
   "language": "python",
   "name": "python3"
  },
  "language_info": {
   "codemirror_mode": {
    "name": "ipython",
    "version": 3
   },
   "file_extension": ".py",
   "mimetype": "text/x-python",
   "name": "python",
   "nbconvert_exporter": "python",
   "pygments_lexer": "ipython3",
   "version": "3.7.9"
  }
 },
 "nbformat": 4,
 "nbformat_minor": 5
}
